{
 "cells": [
  {
   "cell_type": "code",
   "execution_count": 2,
   "metadata": {
    "colab": {
     "base_uri": "https://localhost:8080/"
    },
    "executionInfo": {
     "elapsed": 9590,
     "status": "ok",
     "timestamp": 1709069286800,
     "user": {
      "displayName": "Menolearn Cogscirole",
      "userId": "15566644863527391596"
     },
     "user_tz": 480
    },
    "id": "q6SVznH72juN",
    "outputId": "5e94aca7-e704-44d6-8c63-adefae995e15"
   },
   "outputs": [
    {
     "name": "stdout",
     "output_type": "stream",
     "text": [
      "Requirement already satisfied: openai in /opt/homebrew/anaconda3/lib/python3.10/site-packages (1.74.0)\n",
      "Requirement already satisfied: httpx<1,>=0.23.0 in /opt/homebrew/anaconda3/lib/python3.10/site-packages (from openai) (0.27.0)\n",
      "Requirement already satisfied: anyio<5,>=3.5.0 in /opt/homebrew/anaconda3/lib/python3.10/site-packages (from openai) (3.5.0)\n",
      "Requirement already satisfied: pydantic<3,>=1.9.0 in /opt/homebrew/anaconda3/lib/python3.10/site-packages (from openai) (2.10.3)\n",
      "Requirement already satisfied: sniffio in /opt/homebrew/anaconda3/lib/python3.10/site-packages (from openai) (1.2.0)\n",
      "Requirement already satisfied: distro<2,>=1.7.0 in /opt/homebrew/anaconda3/lib/python3.10/site-packages (from openai) (1.9.0)\n",
      "Requirement already satisfied: jiter<1,>=0.4.0 in /opt/homebrew/anaconda3/lib/python3.10/site-packages (from openai) (0.9.0)\n",
      "Requirement already satisfied: typing-extensions<5,>=4.11 in /opt/homebrew/anaconda3/lib/python3.10/site-packages (from openai) (4.12.2)\n",
      "Requirement already satisfied: tqdm>4 in /opt/homebrew/anaconda3/lib/python3.10/site-packages (from openai) (4.64.1)\n",
      "Requirement already satisfied: idna>=2.8 in /opt/homebrew/anaconda3/lib/python3.10/site-packages (from anyio<5,>=3.5.0->openai) (3.4)\n",
      "Requirement already satisfied: certifi in /opt/homebrew/anaconda3/lib/python3.10/site-packages (from httpx<1,>=0.23.0->openai) (2025.1.31)\n",
      "Requirement already satisfied: httpcore==1.* in /opt/homebrew/anaconda3/lib/python3.10/site-packages (from httpx<1,>=0.23.0->openai) (1.0.2)\n",
      "Requirement already satisfied: h11<0.15,>=0.13 in /opt/homebrew/anaconda3/lib/python3.10/site-packages (from httpcore==1.*->httpx<1,>=0.23.0->openai) (0.14.0)\n",
      "Requirement already satisfied: pydantic-core==2.27.1 in /opt/homebrew/anaconda3/lib/python3.10/site-packages (from pydantic<3,>=1.9.0->openai) (2.27.1)\n",
      "Requirement already satisfied: annotated-types>=0.6.0 in /opt/homebrew/anaconda3/lib/python3.10/site-packages (from pydantic<3,>=1.9.0->openai) (0.6.0)\n"
     ]
    }
   ],
   "source": [
    "# Forces correct Python version (problem specific to Andrew G's Jupyter Notebooks)\n",
    "import sys\n",
    "!{sys.executable} -m pip install openai\n",
    "\n",
    "# For most devs the following will be sufficient:\n",
    "# ! pip install openai"
   ]
  },
  {
   "cell_type": "code",
   "execution_count": null,
   "metadata": {},
   "outputs": [],
   "source": [
    "import openai\n",
    "\n",
    "# Initialize the client\n",
    "client = openai.OpenAI(api_key=\"\")\n"
   ]
  },
  {
   "cell_type": "code",
   "execution_count": 8,
   "metadata": {
    "colab": {
     "base_uri": "https://localhost:8080/",
     "height": 597
    },
    "executionInfo": {
     "elapsed": 1060,
     "status": "ok",
     "timestamp": 1709169390719,
     "user": {
      "displayName": "Menolearn Cogscirole",
      "userId": "15566644863527391596"
     },
     "user_tz": 480
    },
    "id": "Xy4k5Yr0d5Zi",
    "outputId": "0fe63e71-dfb0-49ca-e06a-8ef4399d1dc8"
   },
   "outputs": [
    {
     "data": {
      "text/html": [
       "<div>\n",
       "<style scoped>\n",
       "    .dataframe tbody tr th:only-of-type {\n",
       "        vertical-align: middle;\n",
       "    }\n",
       "\n",
       "    .dataframe tbody tr th {\n",
       "        vertical-align: top;\n",
       "    }\n",
       "\n",
       "    .dataframe thead th {\n",
       "        text-align: right;\n",
       "    }\n",
       "</style>\n",
       "<table border=\"1\" class=\"dataframe\">\n",
       "  <thead>\n",
       "    <tr style=\"text-align: right;\">\n",
       "      <th></th>\n",
       "      <th>Subquery</th>\n",
       "      <th>Response</th>\n",
       "      <th>Category</th>\n",
       "      <th>Subcategory</th>\n",
       "    </tr>\n",
       "  </thead>\n",
       "  <tbody>\n",
       "    <tr>\n",
       "      <th>0</th>\n",
       "      <td>Can you recommend a medication for mood change...</td>\n",
       "      <td>Venlafaxine, at 7.5 mg, is often recommended f...</td>\n",
       "      <td>Menopause Treatment</td>\n",
       "      <td>Mood Changes</td>\n",
       "    </tr>\n",
       "    <tr>\n",
       "      <th>1</th>\n",
       "      <td>What's the dosage for Gabapentin to treat meno...</td>\n",
       "      <td>Gabapentin is prescribed at 900 mg for menopau...</td>\n",
       "      <td>Menopause Treatment</td>\n",
       "      <td>Medication Dosage</td>\n",
       "    </tr>\n",
       "    <tr>\n",
       "      <th>2</th>\n",
       "      <td>Is there a treatment for loss of breast fullness?</td>\n",
       "      <td>While loss of breast fullness is a concern, tr...</td>\n",
       "      <td>Menopause Treatment</td>\n",
       "      <td>Physical Changes</td>\n",
       "    </tr>\n",
       "    <tr>\n",
       "      <th>3</th>\n",
       "      <td>What are the side effects of Fezolinetant?</td>\n",
       "      <td>Fezolinetant, a Neurokinin-3 receptor antagoni...</td>\n",
       "      <td>Medication Side Effects</td>\n",
       "      <td>Fezolinetant</td>\n",
       "    </tr>\n",
       "    <tr>\n",
       "      <th>4</th>\n",
       "      <td>Who should avoid HRT?</td>\n",
       "      <td>Individuals with a history of cancer, liver di...</td>\n",
       "      <td>Treatment Options</td>\n",
       "      <td>Hormone Replacement Therapy</td>\n",
       "    </tr>\n",
       "    <tr>\n",
       "      <th>...</th>\n",
       "      <td>...</td>\n",
       "      <td>...</td>\n",
       "      <td>...</td>\n",
       "      <td>...</td>\n",
       "    </tr>\n",
       "    <tr>\n",
       "      <th>94</th>\n",
       "      <td>What is DRSP 3mg used for?</td>\n",
       "      <td>Effectiveness: nan Side effects: Uterine bleed...</td>\n",
       "      <td>DSRP</td>\n",
       "      <td>General Information</td>\n",
       "    </tr>\n",
       "    <tr>\n",
       "      <th>95</th>\n",
       "      <td>What is Estradiol and NETA 0.5 mg and1 mg used...</td>\n",
       "      <td>Effectiveness: nan Side effects: nan. Importan...</td>\n",
       "      <td>Estradiol and NETA</td>\n",
       "      <td>General Information</td>\n",
       "    </tr>\n",
       "    <tr>\n",
       "      <th>96</th>\n",
       "      <td>What is Estradiol and NETA 0.5 mg and 0.25 mg ...</td>\n",
       "      <td>Effectiveness: nan Side effects: nan. Importan...</td>\n",
       "      <td>Estradiol and NETA</td>\n",
       "      <td>General Information</td>\n",
       "    </tr>\n",
       "    <tr>\n",
       "      <th>97</th>\n",
       "      <td>What is Paroxetine 7.5 mg used for?</td>\n",
       "      <td>Effectiveness: nan Side effects: Nausea, fatigue.</td>\n",
       "      <td>Paroxetine</td>\n",
       "      <td>General Information</td>\n",
       "    </tr>\n",
       "    <tr>\n",
       "      <th>98</th>\n",
       "      <td>What is Gabapentin 1800 mg used for?</td>\n",
       "      <td>Effectiveness: -3.1 Side effects: Dizziness, h...</td>\n",
       "      <td>Gabapentin</td>\n",
       "      <td>General Information</td>\n",
       "    </tr>\n",
       "  </tbody>\n",
       "</table>\n",
       "<p>99 rows × 4 columns</p>\n",
       "</div>"
      ],
      "text/plain": [
       "                                             Subquery  \\\n",
       "0   Can you recommend a medication for mood change...   \n",
       "1   What's the dosage for Gabapentin to treat meno...   \n",
       "2   Is there a treatment for loss of breast fullness?   \n",
       "3          What are the side effects of Fezolinetant?   \n",
       "4                               Who should avoid HRT?   \n",
       "..                                                ...   \n",
       "94                         What is DRSP 3mg used for?   \n",
       "95  What is Estradiol and NETA 0.5 mg and1 mg used...   \n",
       "96  What is Estradiol and NETA 0.5 mg and 0.25 mg ...   \n",
       "97                What is Paroxetine 7.5 mg used for?   \n",
       "98               What is Gabapentin 1800 mg used for?   \n",
       "\n",
       "                                             Response  \\\n",
       "0   Venlafaxine, at 7.5 mg, is often recommended f...   \n",
       "1   Gabapentin is prescribed at 900 mg for menopau...   \n",
       "2   While loss of breast fullness is a concern, tr...   \n",
       "3   Fezolinetant, a Neurokinin-3 receptor antagoni...   \n",
       "4   Individuals with a history of cancer, liver di...   \n",
       "..                                                ...   \n",
       "94  Effectiveness: nan Side effects: Uterine bleed...   \n",
       "95  Effectiveness: nan Side effects: nan. Importan...   \n",
       "96  Effectiveness: nan Side effects: nan. Importan...   \n",
       "97  Effectiveness: nan Side effects: Nausea, fatigue.   \n",
       "98  Effectiveness: -3.1 Side effects: Dizziness, h...   \n",
       "\n",
       "                   Category                  Subcategory  \n",
       "0       Menopause Treatment                 Mood Changes  \n",
       "1       Menopause Treatment            Medication Dosage  \n",
       "2       Menopause Treatment             Physical Changes  \n",
       "3   Medication Side Effects                 Fezolinetant  \n",
       "4         Treatment Options  Hormone Replacement Therapy  \n",
       "..                      ...                          ...  \n",
       "94                     DSRP          General Information  \n",
       "95       Estradiol and NETA          General Information  \n",
       "96       Estradiol and NETA          General Information  \n",
       "97               Paroxetine          General Information  \n",
       "98               Gabapentin          General Information  \n",
       "\n",
       "[99 rows x 4 columns]"
      ]
     },
     "execution_count": 8,
     "metadata": {},
     "output_type": "execute_result"
    }
   ],
   "source": [
    "#Prepare Dataset\n",
    "import pandas as pd\n",
    "df = pd.read_csv(\"MenoLearn_Dataset_JP.csv\")\n",
    "df"
   ]
  },
  {
   "cell_type": "code",
   "execution_count": 10,
   "metadata": {},
   "outputs": [
    {
     "name": "stdout",
     "output_type": "stream",
     "text": [
      "/Users/andrewgibson/MenoLearn/Fine-Tuning Chatbot 2025\n"
     ]
    }
   ],
   "source": [
    "! pwd"
   ]
  },
  {
   "cell_type": "code",
   "execution_count": 12,
   "metadata": {
    "cellView": "form",
    "colab": {
     "base_uri": "https://localhost:8080/",
     "height": 430
    },
    "executionInfo": {
     "elapsed": 329,
     "status": "ok",
     "timestamp": 1709073902881,
     "user": {
      "displayName": "Menolearn Cogscirole",
      "userId": "15566644863527391596"
     },
     "user_tz": 480
    },
    "id": "LcmbejD1rrgH",
    "outputId": "f32e348a-c60c-4238-ad74-92c41f66aed0"
   },
   "outputs": [
    {
     "data": {
      "image/png": "[encoded data removed]",
      "text/plain": [
       "<Figure size 640x480 with 1 Axes>"
      ]
     },
     "metadata": {},
     "output_type": "display_data"
    }
   ],
   "source": [
    "# @title Subcategory\n",
    "\n",
    "from matplotlib import pyplot as plt\n",
    "import seaborn as sns\n",
    "#%config InlineBackend.figure_format ='retina'\n",
    "df.groupby('Subcategory').size().plot(kind='barh', color=sns.palettes.mpl_palette('Dark2'))\n",
    "plt.gca().spines[['top', 'right',]].set_visible(False)"
   ]
  },
  {
   "cell_type": "code",
   "execution_count": 13,
   "metadata": {
    "colab": {
     "base_uri": "https://localhost:8080/"
    },
    "executionInfo": {
     "elapsed": 3,
     "status": "ok",
     "timestamp": 1709073903147,
     "user": {
      "displayName": "Menolearn Cogscirole",
      "userId": "15566644863527391596"
     },
     "user_tz": 480
    },
    "id": "CWQ8EouOrgDe",
    "outputId": "baa7c42a-5bcd-4b3a-cec5-cc380cb97641"
   },
   "outputs": [
    {
     "data": {
      "text/plain": [
       "[{'role': 'user',\n",
       "  'content': 'Can you recommend a medication for mood changes during menopause?'},\n",
       " {'role': 'assistant',\n",
       "  'content': \"Response: Venlafaxine, at 7.5 mg, is often recommended for mood changes. It's an SSRI/SNRI, but watch out for dry mouth and decreased appetite. Category: Menopause Treatment; Subcategory: Mood Changes.\"}]"
      ]
     },
     "execution_count": 13,
     "metadata": {},
     "output_type": "execute_result"
    }
   ],
   "source": [
    "#Format the dataset\n",
    "\n",
    "def convert_to_gpt35_format(dataset):\n",
    "    fine_tuning_data = []\n",
    "    for _, row in dataset.iterrows():\n",
    "        # Include both the direct response and the category information in the system's content\n",
    "        system_content = f\"Response: {row['Response']} Category: {row['Category']}; Subcategory: {row['Subcategory']}.\"\n",
    "        fine_tuning_data.append({\n",
    "            \"messages\": [\n",
    "                {\"role\": \"user\", \"content\": row['Subquery']},  # Use 'Subquery' as the user's query\n",
    "                {\"role\": \"assistant\", \"content\": system_content}  # Use 'assistant' role for the system's response\n",
    "            ]\n",
    "        })\n",
    "    return fine_tuning_data\n",
    "\n",
    "dataset = pd.read_csv(\"MenoLearn_Dataset_JP.csv\")\n",
    "converted_data = convert_to_gpt35_format(dataset)\n",
    "converted_data[0]['messages']\n"
   ]
  },
  {
   "cell_type": "code",
   "execution_count": 16,
   "metadata": {
    "id": "pddfxyh1sYUV"
   },
   "outputs": [],
   "source": [
    "from sklearn.model_selection import train_test_split\n",
    "\n",
    "# Assuming 'dataset' is your DataFrame loaded from the CSV file\n",
    "train_df, val_df = train_test_split(\n",
    "    dataset,\n",
    "    test_size=0.2,\n",
    "    random_state=42  # Ensures reproducibility\n",
    ")\n",
    "\n",
    "# Convert the split datasets into GPT-3.5 format\n",
    "train_data = convert_to_gpt35_format(train_df)\n",
    "val_data = convert_to_gpt35_format(val_df)\n"
   ]
  },
  {
   "cell_type": "code",
   "execution_count": 18,
   "metadata": {
    "id": "4-0aoR18u5nN"
   },
   "outputs": [],
   "source": [
    "# Convert CSV dataset to JSON\n",
    "\n",
    "import json\n",
    "\n",
    "def save_to_jsonl(data, filename):\n",
    "    with open(filename, \"w\") as f:\n",
    "        for item in data:\n",
    "            f.write(json.dumps(item) + \"\\n\")\n",
    "\n",
    "save_to_jsonl(train_data, \"train.jsonl\")\n",
    "save_to_jsonl(val_data, \"val.jsonl\")"
   ]
  },
  {
   "cell_type": "code",
   "execution_count": 20,
   "metadata": {},
   "outputs": [
    {
     "name": "stdout",
     "output_type": "stream",
     "text": [
      "Train file ID: file-7DbErtuxCjHCUwebHpdk93\n",
      "Validation file ID: file-T6RLRCYqukoBfY1Mqq9Q1i\n"
     ]
    }
   ],
   "source": [
    "# Upload training file\n",
    "with open(\"train.jsonl\", \"rb\") as f:\n",
    "    train_file = client.files.create(file=f, purpose=\"fine-tune\")\n",
    "\n",
    "# Upload validation file\n",
    "with open(\"val.jsonl\", \"rb\") as f:\n",
    "    val_file = client.files.create(file=f, purpose=\"fine-tune\")\n",
    "\n",
    "print(\"Train file ID:\", train_file.id)\n",
    "print(\"Validation file ID:\", val_file.id)"
   ]
  },
  {
   "cell_type": "code",
   "execution_count": 22,
   "metadata": {},
   "outputs": [
    {
     "name": "stdout",
     "output_type": "stream",
     "text": [
      "Fine-tune job ID: ftjob-FSLWlTI8kkW9o4JmNed6Sd5s\n"
     ]
    }
   ],
   "source": [
    "# Start fine-tuning\n",
    "\n",
    "fine_tune_response = client.fine_tuning.jobs.create(\n",
    "    training_file=train_file.id,\n",
    "    validation_file=val_file.id,\n",
    "    model=\"gpt-3.5-turbo\"\n",
    ")\n",
    "\n",
    "print(\"Fine-tune job ID:\", fine_tune_response.id)"
   ]
  },
  {
   "cell_type": "code",
   "execution_count": 24,
   "metadata": {},
   "outputs": [
    {
     "name": "stdout",
     "output_type": "stream",
     "text": [
      "FineTuningJob(id='ftjob-FSLWlTI8kkW9o4JmNed6Sd5s', created_at=1746471291, error=Error(code=None, message=None, param=None), fine_tuned_model=None, finished_at=None, hyperparameters=Hyperparameters(batch_size=1, learning_rate_multiplier=2.0, n_epochs=3), model='gpt-3.5-turbo-0125', object='fine_tuning.job', organization_id='org-Ckr1jkijnZKzlFcpsWfNYibg', result_files=[], seed=1359975794, status='validating_files', trained_tokens=None, training_file='file-7DbErtuxCjHCUwebHpdk93', validation_file='file-T6RLRCYqukoBfY1Mqq9Q1i', estimated_finish=None, integrations=[], metadata=None, method=Method(dpo=None, supervised=MethodSupervised(hyperparameters=MethodSupervisedHyperparameters(batch_size=1, learning_rate_multiplier=2.0, n_epochs=3)), type='supervised'), user_provided_suffix=None, usage_metrics=None, shared_with_openai=False)\n"
     ]
    }
   ],
   "source": [
    "# Print job ID and status\n",
    "job_id = fine_tune_response.id\n",
    "status = client.fine_tuning.jobs.retrieve(job_id)\n",
    "print(status)"
   ]
  },
  {
   "cell_type": "code",
   "execution_count": 26,
   "metadata": {},
   "outputs": [
    {
     "name": "stdout",
     "output_type": "stream",
     "text": [
      "Job status: validating_files, waiting...\n",
      "Job status: validating_files, waiting...\n",
      "Job status: validating_files, waiting...\n",
      "Job status: validating_files, waiting...\n",
      "Job status: running, waiting...\n",
      "Job status: running, waiting...\n",
      "Job status: running, waiting...\n",
      "Job status: running, waiting...\n",
      "Job status: running, waiting...\n",
      "Job status: running, waiting...\n",
      "Job status: running, waiting...\n",
      "Job status: running, waiting...\n",
      "Job status: running, waiting...\n",
      "Job status: running, waiting...\n",
      "Job status: running, waiting...\n",
      "Job status: running, waiting...\n",
      "Job status: running, waiting...\n",
      "Job status: running, waiting...\n",
      "Job status: running, waiting...\n",
      "Job status: running, waiting...\n",
      "Job status: running, waiting...\n",
      "Job status: running, waiting...\n",
      "Job status: running, waiting...\n",
      "Job status: running, waiting...\n",
      "Job status: running, waiting...\n",
      "Job status: running, waiting...\n",
      "Job status: running, waiting...\n",
      "Job status: running, waiting...\n"
     ]
    }
   ],
   "source": [
    "# Wait for the job to be finished (check status every few seconds)\n",
    "import time\n",
    "\n",
    "while status.status != \"succeeded\":\n",
    "    print(f\"Job status: {status.status}, waiting...\")\n",
    "    time.sleep(10)  # Wait for 10 seconds before checking again\n",
    "    status = client.fine_tuning.jobs.retrieve(job_id)"
   ]
  },
  {
   "cell_type": "code",
   "execution_count": 159,
   "metadata": {},
   "outputs": [
    {
     "name": "stdout",
     "output_type": "stream",
     "text": [
      "ft:gpt-3.5-turbo-0125:menolearn::BN42llXq\n"
     ]
    }
   ],
   "source": [
    "# Once the fine-tuning is completed, get the fine-tuned model\n",
    "\n",
    "fine_tuned_model = status.fine_tuned_model\n",
    "print(fine_tuned_model)"
   ]
  },
  {
   "cell_type": "code",
   "execution_count": 161,
   "metadata": {},
   "outputs": [
    {
     "name": "stdout",
     "output_type": "stream",
     "text": [
      "Response: This is a default message. Category: General; Subcategory: Miscellaneous.\n"
     ]
    }
   ],
   "source": [
    "# Make a request to the fine-tuned model\n",
    "# Note: \"BadRequestError\" means that fine-tuning is still queued and has not finished. Wait for longer...\n",
    "\n",
    "response = client.chat.completions.create(\n",
    "    model=fine_tuned_model,\n",
    "    messages=[\n",
    "        {\"role\": \"user\", \"content\": \"What is your custom behavior?\"}\n",
    "    ]\n",
    ")\n",
    "\n",
    "print(response.choices[0].message.content)"
   ]
  },
  {
   "cell_type": "code",
   "execution_count": null,
   "metadata": {},
   "outputs": [],
   "source": []
  }
 ],
 "metadata": {
  "colab": {
   "provenance": []
  },
  "kernelspec": {
   "display_name": "Python [conda env:base] *",
   "language": "python",
   "name": "conda-base-py"
  },
  "language_info": {
   "codemirror_mode": {
    "name": "ipython",
    "version": 3
   },
   "file_extension": ".py",
   "mimetype": "text/x-python",
   "name": "python",
   "nbconvert_exporter": "python",
   "pygments_lexer": "ipython3",
   "version": "3.10.9"
  }
 },
 "nbformat": 4,
 "nbformat_minor": 4
}
